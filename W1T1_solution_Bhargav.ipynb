{
 "cells": [
  {
   "cell_type": "markdown",
   "id": "82d85bfc",
   "metadata": {},
   "source": [
    "***Task 1 : Code this up using only numpy arrays and numpy operations, use ReLU as activation function. Use Random weights,bias, inputs for now. Put the code+output in answer(if sharing in word file) and print whatever information is achieved at every step. Example is already available in code implementations(4-mlp one) . \n",
    "    Don’t forget to write good comments and keep code well formatted.\n",
    "    Choose the variable names that are easy to understand.\n",
    "    Break it down in smaller problems and then solve those smaller problems***\n",
    "    \n",
    "\n"
   ]
  },
  {
   "cell_type": "markdown",
   "id": "d5097e25",
   "metadata": {},
   "source": [
    "*1).  Initializing a random array with two values corresponding to X1 & X2*\n"
   ]
  },
  {
   "cell_type": "code",
   "execution_count": 1,
   "id": "ffa5d499",
   "metadata": {},
   "outputs": [
    {
     "name": "stdout",
     "output_type": "stream",
     "text": [
      " [X1,X2 :]\n",
      " [0.5493047 0.0111468]\n"
     ]
    }
   ],
   "source": [
    "import numpy as np\n",
    "\n",
    "X = np.random.rand(2)\n",
    "print(\" [X1,X2 :]\\n\",X)"
   ]
  },
  {
   "cell_type": "markdown",
   "id": "b44349d7",
   "metadata": {},
   "source": [
    "*2). Initializing Weights and Bias for first layer as W1 and B1*"
   ]
  },
  {
   "cell_type": "code",
   "execution_count": 2,
   "id": "1822b612",
   "metadata": {
    "scrolled": false
   },
   "outputs": [
    {
     "name": "stdout",
     "output_type": "stream",
     "text": [
      "W1 = [[W11 W21]\n",
      "      [W12 W22]\n",
      "      [W13 W23]]\n",
      " [[0.92632938 0.03785296]\n",
      " [0.48515139 0.63573179]\n",
      " [0.30353642 0.17979164]]\n",
      "\n",
      "\n",
      "B1:  [0.5 0.5 0.5]\n"
     ]
    }
   ],
   "source": [
    "W1 = np.random.rand(3,2)\n",
    "print(\"W1 = [[W11 W21]\\n      [W12 W22]\\n      [W13 W23]]\\n\",W1)\n",
    "B1 =  np.array([0.5,0.5,0.5])\n",
    "print(\"\\n\\nB1: \",B1)"
   ]
  },
  {
   "cell_type": "markdown",
   "id": "86ea580a",
   "metadata": {},
   "source": [
    "*3). Relu(Rectified logic unit) function*"
   ]
  },
  {
   "cell_type": "code",
   "execution_count": 3,
   "id": "af0ac7ec",
   "metadata": {},
   "outputs": [],
   "source": [
    "def relu(x):\n",
    "    return np.fmax(x, 0)\n"
   ]
  },
  {
   "cell_type": "markdown",
   "id": "61058bb3",
   "metadata": {},
   "source": [
    "*4). Calculating Z1(linear function) and A1(relu of Z1)*\n",
    "> Z1 = [X1W11+X2W21+B1  &nbsp;  X1W12+X2W22+B1 &nbsp; X1W13+X2W23+B1]\\\n",
    "> A1 = [maxZ1[0] &nbsp; maxZ1[1] &nbsp; maxZ1[2]]"
   ]
  },
  {
   "cell_type": "code",
   "execution_count": 4,
   "id": "ccd2ae64",
   "metadata": {},
   "outputs": [
    {
     "name": "stdout",
     "output_type": "stream",
     "text": [
      "Z1 : [Z11  Z12  Z13] =  [1.00925903 0.77358232 0.66873808]\n",
      "A1 : [A11  A12  A13] =  [1.00925903 0.77358232 0.66873808]\n"
     ]
    }
   ],
   "source": [
    "Z1 = np.add(np.sum(np.multiply(X,W1),axis=1),B1)\n",
    "print(\"Z1 : [Z11  Z12  Z13] = \",Z1)\n",
    "A1 = relu(Z1)\n",
    "print(\"A1 : [A11  A12  A13] = \",A1)"
   ]
  },
  {
   "cell_type": "markdown",
   "id": "e6fc760b",
   "metadata": {},
   "source": [
    "*5). Initializing Weights and bias for second layer as W2 and B2*"
   ]
  },
  {
   "cell_type": "code",
   "execution_count": 5,
   "id": "0a799f7d",
   "metadata": {},
   "outputs": [
    {
     "name": "stdout",
     "output_type": "stream",
     "text": [
      "W2 : [W31  W41  W51] =  [0.51777235 0.14166471 0.87080956]\n",
      "B2:  -0.5\n"
     ]
    }
   ],
   "source": [
    "W2 = np.random.rand(3)\n",
    "print(\"W2 : [W31  W41  W51] = \",W2)\n",
    "B2 = -0.5\n",
    "print(\"B2: \",B2)"
   ]
  },
  {
   "cell_type": "markdown",
   "id": "40517785",
   "metadata": {},
   "source": [
    "*6). Calculating Z2(=A11W31+A12+W41+A13W41+B2) and A2(=max(Z2,0). Also Printing the \"FINAL OUTPUT\"*"
   ]
  },
  {
   "cell_type": "code",
   "execution_count": 6,
   "id": "7a1f6a12",
   "metadata": {},
   "outputs": [
    {
     "name": "stdout",
     "output_type": "stream",
     "text": [
      "Z2 :  0.7144992516927191\n",
      "A2 :  0.7144992516927191\n",
      "Output =  0.7144992516927191\n"
     ]
    }
   ],
   "source": [
    "Z2 = np.sum(np.multiply(A1,W2)) + B2\n",
    "print(\"Z2 : \",Z2)\n",
    "A2 = np.max(Z2,0)\n",
    "print(\"A2 : \",A2)\n",
    "print(\"Output = \",A2)"
   ]
  }
 ],
 "metadata": {
  "kernelspec": {
   "display_name": "Python 3",
   "language": "python",
   "name": "python3"
  },
  "language_info": {
   "codemirror_mode": {
    "name": "ipython",
    "version": 3
   },
   "file_extension": ".py",
   "mimetype": "text/x-python",
   "name": "python",
   "nbconvert_exporter": "python",
   "pygments_lexer": "ipython3",
   "version": "3.8.8"
  }
 },
 "nbformat": 4,
 "nbformat_minor": 5
}
